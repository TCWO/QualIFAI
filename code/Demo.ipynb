{
 "cells": [
  {
   "cell_type": "markdown",
   "metadata": {},
   "source": [
    "# Qual-IF-AI: Quality Control of ImmunoFluorescence Images using Artificial Intelligence"
   ]
  },
  {
   "cell_type": "markdown",
   "metadata": {},
   "source": [
    "### Step 0 : Load functions\n",
    "#### Step 0 is reading file with all the functions to implement Qual-IF-AI"
   ]
  },
  {
   "cell_type": "code",
   "execution_count": null,
   "metadata": {},
   "outputs": [],
   "source": [
    "%run QC_model_implementation"
   ]
  },
  {
   "cell_type": "markdown",
   "metadata": {},
   "source": [
    "### Step1: Tessalate image\n",
    "####  Qual-IF-AI models take as an input images of size 512 X 512.'split tiles' function tessalates input image into smaller tiles of size 512 X 512. Arguments : 1) input_image_path- Path to input images. 2)path_output_tiles- Path to save output tessaleted tiles"
   ]
  },
  {
   "cell_type": "code",
   "execution_count": null,
   "metadata": {},
   "outputs": [],
   "source": [
    "input_image_path=os.path.join(wd,'..','Images/')\n",
    "path_output_tiles=os.path.join(wd,'..','cut_tiles')\n",
    "\n",
    "split_tiles(input_image_path,path_output_tiles)"
   ]
  },
  {
   "cell_type": "markdown",
   "metadata": {},
   "source": [
    "### Step2: Classification \n",
    "##### This function predicts probability of having 1)Air bubble 2)External artifact 3)Out of focus areas 4)Tissur folds 5)Antibody aggregations in each splitted tile. For predicting classification label, for each artifact, pre last vector output of the model is projected on a PCA template of images with artifact and images without artifacts. If 8 (n) out of 10 (k) nearest neighbors belong to one category, then that category label is given to the image tile else 'doubt' label is given. Each image tile i Classification label is given based on classification probability and number of  nearest neighbors of model  Arguments: 1) input path to split tiles 2)k:number of nearest neighbors to be accessed 3)n: how many neighbors should have same label 4)path to save output csv. \n"
   ]
  },
  {
   "cell_type": "code",
   "execution_count": null,
   "metadata": {},
   "outputs": [],
   "source": [
    "path_output_tiles=os.path.join(wd,'..','cut_tiles')\n",
    "csv_path=os.path.join(wd,'..','Data','classification_prediction.csv')\n",
    "k=10\n",
    "n=8\n",
    "classification_prediction(path_output_tiles,csv_path,k,n)"
   ]
  },
  {
   "cell_type": "markdown",
   "metadata": {},
   "source": [
    "### Step3: Segmentation\n",
    "\n",
    "#### This function generates segmentation mask for every input images which classified as having artifact by the classification module. Arguments 1)artifact_list: Path to csv geberated by the classification module 2)out_dir: -path to the folder for saving output masks 3)img_path: Path to tessalated tiles"
   ]
  },
  {
   "cell_type": "code",
   "execution_count": null,
   "metadata": {},
   "outputs": [],
   "source": [
    "artifact_list=os.path.join(wd,'..','Data','classification_prediction.csv')\n",
    "out_dir=os.path.join(wd,'..','mask')\n",
    "img_path=os.path.join(wd,'..','cut_tiles')\n",
    "segmentation(img_path,out_dir,artifact_list)"
   ]
  },
  {
   "cell_type": "markdown",
   "metadata": {},
   "source": [
    "### Step4: Stitching mask tiles\n",
    "####  This step stiches together all the masks from predicted tiles to match the size of original image. Arguments 1)raw_image_path: Path to original images 2)output_path: Path to output folder 3)input_image_path: Path to the folder where segmentation predictions of each image tile is saved"
   ]
  },
  {
   "cell_type": "code",
   "execution_count": null,
   "metadata": {},
   "outputs": [],
   "source": [
    "raw_image_path=out_dir=os.path.join(wd,'..','Images')\n",
    "output_path=os.path.join(wd,'..','hard_stitch_masks')\n",
    "input_image_path=os.path.join(wd,'..','mask')\n",
    "\n",
    "\n",
    "merge_predictions(input_image_path,output_path,raw_image_path)"
   ]
  },
  {
   "cell_type": "markdown",
   "metadata": {},
   "source": [
    "### Step 5: Generating artifact free images\n",
    "#### In this final step artifacts from the images are removed using the masks generated previously"
   ]
  },
  {
   "cell_type": "code",
   "execution_count": null,
   "metadata": {},
   "outputs": [],
   "source": [
    "Mask_path=os.path.join(wd,'..','hard_stitch_masks')\n",
    "Raw_image_path=os.path.join(wd,'..','Images')\n",
    "output_path=os.path.join(wd,'..','Images_corrected')\n",
    "\n",
    "artifacts_free_image(Mask_path,Raw_image_path,output_path)"
   ]
  },
  {
   "cell_type": "markdown",
   "metadata": {},
   "source": [
    "### Wrapper function\n",
    "\n",
    "#### This function generates all the steps together\n"
   ]
  },
  {
   "cell_type": "code",
   "execution_count": null,
   "metadata": {},
   "outputs": [],
   "source": [
    "input_image_path=os.path.join(wd,'..','Images/')\n",
    "output_path=os.path.join(wd,'..','Images_corrected')\n",
    "QualIFAI(input_image_path,output_path)"
   ]
  }
 ],
 "metadata": {
  "kernelspec": {
   "display_name": "qualifai3",
   "language": "python",
   "name": "qualifai3"
  },
  "language_info": {
   "codemirror_mode": {
    "name": "ipython",
    "version": 3
   },
   "file_extension": ".py",
   "mimetype": "text/x-python",
   "name": "python",
   "nbconvert_exporter": "python",
   "pygments_lexer": "ipython3",
   "version": "3.7.16"
  }
 },
 "nbformat": 4,
 "nbformat_minor": 4
}
